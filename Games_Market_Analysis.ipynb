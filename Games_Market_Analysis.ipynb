{
 "cells": [
  {
   "cell_type": "markdown",
   "metadata": {},
   "source": [
    "# 1. Import Library"
   ]
  },
  {
   "cell_type": "code",
   "execution_count": 3,
   "metadata": {},
   "outputs": [],
   "source": [
    "import pandas as pd\n",
    "import matplotlib.pyplot as plt\n",
    "import seaborn as sns\n",
    "from scipy import stats"
   ]
  },
  {
   "cell_type": "code",
   "execution_count": 4,
   "metadata": {},
   "outputs": [
    {
     "ename": "FileNotFoundError",
     "evalue": "[Errno 2] No such file or directory: '/datasets/games.csv'",
     "output_type": "error",
     "traceback": [
      "\u001b[1;31m---------------------------------------------------------------------------\u001b[0m",
      "\u001b[1;31mFileNotFoundError\u001b[0m                         Traceback (most recent call last)",
      "Cell \u001b[1;32mIn[4], line 1\u001b[0m\n\u001b[1;32m----> 1\u001b[0m df \u001b[38;5;241m=\u001b[39m pd\u001b[38;5;241m.\u001b[39mread_csv(\u001b[38;5;124m'\u001b[39m\u001b[38;5;124m/datasets/games.csv\u001b[39m\u001b[38;5;124m'\u001b[39m)\n",
      "File \u001b[1;32m~\\anaconda3\\Lib\\site-packages\\pandas\\io\\parsers\\readers.py:1026\u001b[0m, in \u001b[0;36mread_csv\u001b[1;34m(filepath_or_buffer, sep, delimiter, header, names, index_col, usecols, dtype, engine, converters, true_values, false_values, skipinitialspace, skiprows, skipfooter, nrows, na_values, keep_default_na, na_filter, verbose, skip_blank_lines, parse_dates, infer_datetime_format, keep_date_col, date_parser, date_format, dayfirst, cache_dates, iterator, chunksize, compression, thousands, decimal, lineterminator, quotechar, quoting, doublequote, escapechar, comment, encoding, encoding_errors, dialect, on_bad_lines, delim_whitespace, low_memory, memory_map, float_precision, storage_options, dtype_backend)\u001b[0m\n\u001b[0;32m   1013\u001b[0m kwds_defaults \u001b[38;5;241m=\u001b[39m _refine_defaults_read(\n\u001b[0;32m   1014\u001b[0m     dialect,\n\u001b[0;32m   1015\u001b[0m     delimiter,\n\u001b[1;32m   (...)\u001b[0m\n\u001b[0;32m   1022\u001b[0m     dtype_backend\u001b[38;5;241m=\u001b[39mdtype_backend,\n\u001b[0;32m   1023\u001b[0m )\n\u001b[0;32m   1024\u001b[0m kwds\u001b[38;5;241m.\u001b[39mupdate(kwds_defaults)\n\u001b[1;32m-> 1026\u001b[0m \u001b[38;5;28;01mreturn\u001b[39;00m _read(filepath_or_buffer, kwds)\n",
      "File \u001b[1;32m~\\anaconda3\\Lib\\site-packages\\pandas\\io\\parsers\\readers.py:620\u001b[0m, in \u001b[0;36m_read\u001b[1;34m(filepath_or_buffer, kwds)\u001b[0m\n\u001b[0;32m    617\u001b[0m _validate_names(kwds\u001b[38;5;241m.\u001b[39mget(\u001b[38;5;124m\"\u001b[39m\u001b[38;5;124mnames\u001b[39m\u001b[38;5;124m\"\u001b[39m, \u001b[38;5;28;01mNone\u001b[39;00m))\n\u001b[0;32m    619\u001b[0m \u001b[38;5;66;03m# Create the parser.\u001b[39;00m\n\u001b[1;32m--> 620\u001b[0m parser \u001b[38;5;241m=\u001b[39m TextFileReader(filepath_or_buffer, \u001b[38;5;241m*\u001b[39m\u001b[38;5;241m*\u001b[39mkwds)\n\u001b[0;32m    622\u001b[0m \u001b[38;5;28;01mif\u001b[39;00m chunksize \u001b[38;5;129;01mor\u001b[39;00m iterator:\n\u001b[0;32m    623\u001b[0m     \u001b[38;5;28;01mreturn\u001b[39;00m parser\n",
      "File \u001b[1;32m~\\anaconda3\\Lib\\site-packages\\pandas\\io\\parsers\\readers.py:1620\u001b[0m, in \u001b[0;36mTextFileReader.__init__\u001b[1;34m(self, f, engine, **kwds)\u001b[0m\n\u001b[0;32m   1617\u001b[0m     \u001b[38;5;28mself\u001b[39m\u001b[38;5;241m.\u001b[39moptions[\u001b[38;5;124m\"\u001b[39m\u001b[38;5;124mhas_index_names\u001b[39m\u001b[38;5;124m\"\u001b[39m] \u001b[38;5;241m=\u001b[39m kwds[\u001b[38;5;124m\"\u001b[39m\u001b[38;5;124mhas_index_names\u001b[39m\u001b[38;5;124m\"\u001b[39m]\n\u001b[0;32m   1619\u001b[0m \u001b[38;5;28mself\u001b[39m\u001b[38;5;241m.\u001b[39mhandles: IOHandles \u001b[38;5;241m|\u001b[39m \u001b[38;5;28;01mNone\u001b[39;00m \u001b[38;5;241m=\u001b[39m \u001b[38;5;28;01mNone\u001b[39;00m\n\u001b[1;32m-> 1620\u001b[0m \u001b[38;5;28mself\u001b[39m\u001b[38;5;241m.\u001b[39m_engine \u001b[38;5;241m=\u001b[39m \u001b[38;5;28mself\u001b[39m\u001b[38;5;241m.\u001b[39m_make_engine(f, \u001b[38;5;28mself\u001b[39m\u001b[38;5;241m.\u001b[39mengine)\n",
      "File \u001b[1;32m~\\anaconda3\\Lib\\site-packages\\pandas\\io\\parsers\\readers.py:1880\u001b[0m, in \u001b[0;36mTextFileReader._make_engine\u001b[1;34m(self, f, engine)\u001b[0m\n\u001b[0;32m   1878\u001b[0m     \u001b[38;5;28;01mif\u001b[39;00m \u001b[38;5;124m\"\u001b[39m\u001b[38;5;124mb\u001b[39m\u001b[38;5;124m\"\u001b[39m \u001b[38;5;129;01mnot\u001b[39;00m \u001b[38;5;129;01min\u001b[39;00m mode:\n\u001b[0;32m   1879\u001b[0m         mode \u001b[38;5;241m+\u001b[39m\u001b[38;5;241m=\u001b[39m \u001b[38;5;124m\"\u001b[39m\u001b[38;5;124mb\u001b[39m\u001b[38;5;124m\"\u001b[39m\n\u001b[1;32m-> 1880\u001b[0m \u001b[38;5;28mself\u001b[39m\u001b[38;5;241m.\u001b[39mhandles \u001b[38;5;241m=\u001b[39m get_handle(\n\u001b[0;32m   1881\u001b[0m     f,\n\u001b[0;32m   1882\u001b[0m     mode,\n\u001b[0;32m   1883\u001b[0m     encoding\u001b[38;5;241m=\u001b[39m\u001b[38;5;28mself\u001b[39m\u001b[38;5;241m.\u001b[39moptions\u001b[38;5;241m.\u001b[39mget(\u001b[38;5;124m\"\u001b[39m\u001b[38;5;124mencoding\u001b[39m\u001b[38;5;124m\"\u001b[39m, \u001b[38;5;28;01mNone\u001b[39;00m),\n\u001b[0;32m   1884\u001b[0m     compression\u001b[38;5;241m=\u001b[39m\u001b[38;5;28mself\u001b[39m\u001b[38;5;241m.\u001b[39moptions\u001b[38;5;241m.\u001b[39mget(\u001b[38;5;124m\"\u001b[39m\u001b[38;5;124mcompression\u001b[39m\u001b[38;5;124m\"\u001b[39m, \u001b[38;5;28;01mNone\u001b[39;00m),\n\u001b[0;32m   1885\u001b[0m     memory_map\u001b[38;5;241m=\u001b[39m\u001b[38;5;28mself\u001b[39m\u001b[38;5;241m.\u001b[39moptions\u001b[38;5;241m.\u001b[39mget(\u001b[38;5;124m\"\u001b[39m\u001b[38;5;124mmemory_map\u001b[39m\u001b[38;5;124m\"\u001b[39m, \u001b[38;5;28;01mFalse\u001b[39;00m),\n\u001b[0;32m   1886\u001b[0m     is_text\u001b[38;5;241m=\u001b[39mis_text,\n\u001b[0;32m   1887\u001b[0m     errors\u001b[38;5;241m=\u001b[39m\u001b[38;5;28mself\u001b[39m\u001b[38;5;241m.\u001b[39moptions\u001b[38;5;241m.\u001b[39mget(\u001b[38;5;124m\"\u001b[39m\u001b[38;5;124mencoding_errors\u001b[39m\u001b[38;5;124m\"\u001b[39m, \u001b[38;5;124m\"\u001b[39m\u001b[38;5;124mstrict\u001b[39m\u001b[38;5;124m\"\u001b[39m),\n\u001b[0;32m   1888\u001b[0m     storage_options\u001b[38;5;241m=\u001b[39m\u001b[38;5;28mself\u001b[39m\u001b[38;5;241m.\u001b[39moptions\u001b[38;5;241m.\u001b[39mget(\u001b[38;5;124m\"\u001b[39m\u001b[38;5;124mstorage_options\u001b[39m\u001b[38;5;124m\"\u001b[39m, \u001b[38;5;28;01mNone\u001b[39;00m),\n\u001b[0;32m   1889\u001b[0m )\n\u001b[0;32m   1890\u001b[0m \u001b[38;5;28;01massert\u001b[39;00m \u001b[38;5;28mself\u001b[39m\u001b[38;5;241m.\u001b[39mhandles \u001b[38;5;129;01mis\u001b[39;00m \u001b[38;5;129;01mnot\u001b[39;00m \u001b[38;5;28;01mNone\u001b[39;00m\n\u001b[0;32m   1891\u001b[0m f \u001b[38;5;241m=\u001b[39m \u001b[38;5;28mself\u001b[39m\u001b[38;5;241m.\u001b[39mhandles\u001b[38;5;241m.\u001b[39mhandle\n",
      "File \u001b[1;32m~\\anaconda3\\Lib\\site-packages\\pandas\\io\\common.py:873\u001b[0m, in \u001b[0;36mget_handle\u001b[1;34m(path_or_buf, mode, encoding, compression, memory_map, is_text, errors, storage_options)\u001b[0m\n\u001b[0;32m    868\u001b[0m \u001b[38;5;28;01melif\u001b[39;00m \u001b[38;5;28misinstance\u001b[39m(handle, \u001b[38;5;28mstr\u001b[39m):\n\u001b[0;32m    869\u001b[0m     \u001b[38;5;66;03m# Check whether the filename is to be opened in binary mode.\u001b[39;00m\n\u001b[0;32m    870\u001b[0m     \u001b[38;5;66;03m# Binary mode does not support 'encoding' and 'newline'.\u001b[39;00m\n\u001b[0;32m    871\u001b[0m     \u001b[38;5;28;01mif\u001b[39;00m ioargs\u001b[38;5;241m.\u001b[39mencoding \u001b[38;5;129;01mand\u001b[39;00m \u001b[38;5;124m\"\u001b[39m\u001b[38;5;124mb\u001b[39m\u001b[38;5;124m\"\u001b[39m \u001b[38;5;129;01mnot\u001b[39;00m \u001b[38;5;129;01min\u001b[39;00m ioargs\u001b[38;5;241m.\u001b[39mmode:\n\u001b[0;32m    872\u001b[0m         \u001b[38;5;66;03m# Encoding\u001b[39;00m\n\u001b[1;32m--> 873\u001b[0m         handle \u001b[38;5;241m=\u001b[39m \u001b[38;5;28mopen\u001b[39m(\n\u001b[0;32m    874\u001b[0m             handle,\n\u001b[0;32m    875\u001b[0m             ioargs\u001b[38;5;241m.\u001b[39mmode,\n\u001b[0;32m    876\u001b[0m             encoding\u001b[38;5;241m=\u001b[39mioargs\u001b[38;5;241m.\u001b[39mencoding,\n\u001b[0;32m    877\u001b[0m             errors\u001b[38;5;241m=\u001b[39merrors,\n\u001b[0;32m    878\u001b[0m             newline\u001b[38;5;241m=\u001b[39m\u001b[38;5;124m\"\u001b[39m\u001b[38;5;124m\"\u001b[39m,\n\u001b[0;32m    879\u001b[0m         )\n\u001b[0;32m    880\u001b[0m     \u001b[38;5;28;01melse\u001b[39;00m:\n\u001b[0;32m    881\u001b[0m         \u001b[38;5;66;03m# Binary mode\u001b[39;00m\n\u001b[0;32m    882\u001b[0m         handle \u001b[38;5;241m=\u001b[39m \u001b[38;5;28mopen\u001b[39m(handle, ioargs\u001b[38;5;241m.\u001b[39mmode)\n",
      "\u001b[1;31mFileNotFoundError\u001b[0m: [Errno 2] No such file or directory: '/datasets/games.csv'"
     ]
    }
   ],
   "source": [
    "df = pd.read_csv('/datasets/games.csv')"
   ]
  },
  {
   "cell_type": "code",
   "execution_count": null,
   "metadata": {},
   "outputs": [],
   "source": [
    "print(df.head())"
   ]
  },
  {
   "cell_type": "markdown",
   "metadata": {},
   "source": [
    "# 2. Replace column names with lowercase"
   ]
  },
  {
   "cell_type": "code",
   "execution_count": null,
   "metadata": {},
   "outputs": [],
   "source": [
    "df.columns = df.columns.str.lower() #replace column names with lowercase"
   ]
  },
  {
   "cell_type": "code",
   "execution_count": null,
   "metadata": {},
   "outputs": [],
   "source": [
    "print(df.columns)"
   ]
  },
  {
   "cell_type": "markdown",
   "metadata": {},
   "source": [
    "# 3. Convert data to necessary types"
   ]
  },
  {
   "cell_type": "code",
   "execution_count": null,
   "metadata": {},
   "outputs": [],
   "source": [
    "# Convert 'year_of_release' to float64, allowing missing values\n",
    "df['year_of_release'] = pd.to_numeric(df['year_of_release'], errors='coerce').astype('float64') "
   ]
  },
  {
   "cell_type": "code",
   "execution_count": null,
   "metadata": {},
   "outputs": [],
   "source": [
    "# Convert 'critic_score' to float64\n",
    "df['critic_score'] = pd.to_numeric(df['critic_score'], errors='coerce').astype('float64') "
   ]
  },
  {
   "cell_type": "code",
   "execution_count": null,
   "metadata": {},
   "outputs": [],
   "source": [
    "# Convert 'user_score' to float, treating 'tbd' as missing (NaN)\n",
    "df['user_score'] = pd.to_numeric(df['user_score'], errors='coerce').astype('float64')"
   ]
  },
  {
   "cell_type": "code",
   "execution_count": null,
   "metadata": {},
   "outputs": [],
   "source": [
    "df.head()"
   ]
  },
  {
   "cell_type": "markdown",
   "metadata": {},
   "source": [
    "# 4. Handle missing values"
   ]
  },
  {
   "cell_type": "code",
   "execution_count": null,
   "metadata": {},
   "outputs": [],
   "source": [
    "#count how many missing values exist in each column\n",
    "print(df.isna().sum()) "
   ]
  },
  {
   "cell_type": "code",
   "execution_count": null,
   "metadata": {},
   "outputs": [],
   "source": [
    "# Remove rows where 'name' is missing (cannot fill, only two rows)\n",
    "df = df.dropna(subset=['name']) "
   ]
  },
  {
   "cell_type": "code",
   "execution_count": null,
   "metadata": {},
   "outputs": [],
   "source": [
    "# Fill 'genre' missing values\n",
    "moda_genero = df.groupby(['platform', 'year_of_release'])['genre'].agg(lambda x: x.mode().iloc[0] if not x.mode().empty else None)\n",
    "df['genre'] = df.set_index(['platform', 'year_of_release'])['genre'].fillna(moda_genero).reset_index(drop=True)"
   ]
  },
  {
   "cell_type": "code",
   "execution_count": null,
   "metadata": {},
   "outputs": [],
   "source": [
    "# Fill 'rating' missing values\n",
    "df['critic_score'] = df.groupby(['platform', 'genre'])['critic_score'].apply(lambda x: x.fillna(x.median())).reset_index(drop=True)\n",
    "\n",
    "# Fill 'user_score' missing values\n",
    "df['user_score'] = df.groupby(['platform', 'genre'])['user_score'].apply(lambda x: x.fillna(x.median())).reset_index(drop=True)"
   ]
  },
  {
   "cell_type": "code",
   "execution_count": null,
   "metadata": {},
   "outputs": [],
   "source": [
    "#remove missing values: age rating is not always recorded, especially in old or indie games, and fill with the 'Unknown' category\n",
    "df['rating'] = df['rating'].fillna('Unknown') "
   ]
  },
  {
   "cell_type": "code",
   "execution_count": null,
   "metadata": {},
   "outputs": [],
   "source": [
    "print(df.isna().sum()) #confirmar se ainda tem valores ausentes"
   ]
  },
  {
   "cell_type": "markdown",
   "metadata": {},
   "source": [
    "* Manter o year of release com valores ausentes por enquanto"
   ]
  },
  {
   "cell_type": "code",
   "execution_count": null,
   "metadata": {},
   "outputs": [],
   "source": [
    "df['genre'] = df['genre'].fillna('Unknown') #Preencher o restante com valor padrão"
   ]
  },
  {
   "cell_type": "code",
   "execution_count": null,
   "metadata": {},
   "outputs": [],
   "source": [
    "df['critic_score'] = df['critic_score'].fillna(df['critic_score'].median())\n",
    "df['user_score'] = df['user_score'].fillna(df['user_score'].median()) #Preencher com a mediana global"
   ]
  },
  {
   "cell_type": "code",
   "execution_count": null,
   "metadata": {},
   "outputs": [],
   "source": [
    "#confirm if there are still missing values\n",
    "print(df.isna().sum())"
   ]
  },
  {
   "cell_type": "markdown",
   "metadata": {},
   "source": [
    "# 5.Calculate total sales"
   ]
  },
  {
   "cell_type": "code",
   "execution_count": null,
   "metadata": {},
   "outputs": [],
   "source": [
    "#create a new column with the sum of sales across all regions\n",
    "df['total_sales'] =  df[['na_sales', 'eu_sales', 'jp_sales', 'other_sales']].sum(axis=1) "
   ]
  },
  {
   "cell_type": "code",
   "execution_count": null,
   "metadata": {},
   "outputs": [],
   "source": [
    "#visualize the data to confirm\n",
    "print(df[['name', 'na_sales', 'eu_sales', 'jp_sales', 'other_sales', 'total_sales']].head()) "
   ]
  },
  {
   "cell_type": "markdown",
   "metadata": {},
   "source": [
    "# 6. Perform exploratory data analysis (EDA)"
   ]
  },
  {
   "cell_type": "code",
   "execution_count": null,
   "metadata": {},
   "outputs": [],
   "source": [
    "#See how many games were released in different years\n",
    "jogos_por_ano = df['year_of_release'].value_counts().sort_index()"
   ]
  },
  {
   "cell_type": "code",
   "execution_count": null,
   "metadata": {},
   "outputs": [],
   "source": [
    "print(jogos_por_ano)"
   ]
  },
  {
   "cell_type": "markdown",
   "metadata": {},
   "source": [
    "# 6.1 Games released per year"
   ]
  },
  {
   "cell_type": "code",
   "execution_count": null,
   "metadata": {
    "scrolled": true
   },
   "outputs": [],
   "source": [
    "jogos_por_ano = df['year_of_release'].value_counts().sort_index()\n",
    "\n",
    "# Criar o gráfico\n",
    "plt.figure(figsize=(14, 6))\n",
    "plt.bar(jogos_por_ano.index, jogos_por_ano.values, color='skyblue')\n",
    "plt.title('Number of Games Released Per Year', fontsize=14)\n",
    "plt.xlabel('Year of Release')\n",
    "plt.ylabel('Number of Games')\n",
    "plt.xticks(rotation=45)\n",
    "plt.grid(axis='y', linestyle='--', alpha=0.7)\n",
    "plt.tight_layout()\n",
    "plt.show()"
   ]
  },
  {
   "cell_type": "markdown",
   "metadata": {},
   "source": [
    "The chart shows three distinct phases: an initial phase with few releases (1980–1993), a period of high industry activity and consolidation (1994–2011), and a recent phase with possible underrepresentation (2012–2016). For more reliable analysis, it is recommended to focus on the interval between 1995 and 2011, which shows a higher volume and diversity of data."
   ]
  },
  {
   "cell_type": "code",
   "execution_count": null,
   "metadata": {},
   "outputs": [],
   "source": [
    "df.head()"
   ]
  },
  {
   "cell_type": "code",
   "execution_count": null,
   "metadata": {},
   "outputs": [],
   "source": [
    "#Remove rows without year of release\n",
    "df = df.dropna(subset=[\"year_of_release\"])\n",
    "df[\"year_of_release\"] = df[\"year_of_release\"].astype(int)\n",
    "\n",
    "#Ensure the total sales column exists\n",
    "if \"total_sales\" not in df.columns:\n",
    "    df[\"total_sales\"] = df[\"na_sales\"] + df[\"eu_sales\"] + df[\"jp_sales\"] + df[\"other_sales\"]"
   ]
  },
  {
   "cell_type": "code",
   "execution_count": null,
   "metadata": {},
   "outputs": [],
   "source": [
    "#Group by platform and get the 5 with the most total sales\n",
    "vendas_totais = df.groupby(\"platform\")[\"total_sales\"].sum().sort_values(ascending=False)\n",
    "top_plataformas = vendas_totais.head(5).index.tolist()\n",
    "\n",
    "# Filter only these platforms\n",
    "df_top = df[df[\"platform\"].isin(top_plataformas)]"
   ]
  },
  {
   "cell_type": "markdown",
   "metadata": {},
   "source": [
    "# 6.2 Analyze sales by platform"
   ]
  },
  {
   "cell_type": "code",
   "execution_count": null,
   "metadata": {},
   "outputs": [],
   "source": [
    "#Group by year and platform\n",
    "vendas_anuais = df_top.groupby([\"platform\", \"year_of_release\"])[\"total_sales\"].sum().reset_index()\n",
    "\n",
    "#Create the chart\n",
    "plt.figure(figsize=(12, 6))\n",
    "sns.lineplot(data=vendas_anuais, x=\"year_of_release\", y=\"total_sales\", hue=\"platform\")\n",
    "plt.title(\"Top 5 Platforms by Total Global Sales\")\n",
    "plt.xlabel(\"Year of Release\")\n",
    "plt.ylabel(\"Total Sales (Millions)\")\n",
    "plt.xticks(rotation=45)\n",
    "plt.tight_layout()\n",
    "plt.show()"
   ]
  },
  {
   "cell_type": "markdown",
   "metadata": {},
   "source": [
    "# 6.3. Analyze of platform Emergence and Disappearance"
   ]
  },
  {
   "cell_type": "code",
   "execution_count": null,
   "metadata": {},
   "outputs": [],
   "source": [
    "# Analysis of the emergence and disappearance of platforms\n",
    "vida_plataformas = df.groupby(\"platform\")[\"year_of_release\"].agg([\"min\", \"max\"]).reset_index()\n",
    "vida_plataformas[\"active_years\"] = vida_plataformas[\"max\"] - vida_plataformas[\"min\"]\n",
    "\n",
    "#Show platforms that disappeared (very old last year)\n",
    "desaparecidas = vida_plataformas[vida_plataformas[\"max\"] < 2015].sort_values(\"max\", ascending=False)\n",
    "print(\"Plataformas que deixaram de vender recentemente:\")\n",
    "print(desaparecidas.head(10))"
   ]
  },
  {
   "cell_type": "markdown",
   "metadata": {},
   "source": [
    "Current Conclusions:\n",
    "\n",
    "Some platforms disappear 5 to 10 years after their peak.\n",
    "\n",
    "The average lifespan of a platform is 6 to 10 years.\n",
    "\n",
    "Platforms that emerged in the early 2000s were still relevant until 2013–2015.\n",
    "\n",
    "Data Period Determination:\n",
    "\n",
    "To build a predictive model for the year 2017, the most suitable analysis period is 2000 to 2016. This range covers console generations with market behavior similar to 2017, such as the PS2, PS3, Xbox 360, and Wii. Additionally, 2016 represents the last year with available historical data before the target forecast year."
   ]
  },
  {
   "cell_type": "code",
   "execution_count": null,
   "metadata": {},
   "outputs": [],
   "source": [
    "# Which platforms are leading in sales?\n",
    "df_relevante = df[(df[\"year_of_release\"] >= 2000) & (df[\"year_of_release\"] <= 2016)].copy()\n",
    "df_relevante[\"year_of_release\"] = df_relevante[\"year_of_release\"].astype(int) #Filtrar dados no periodo relevante"
   ]
  },
  {
   "cell_type": "code",
   "execution_count": null,
   "metadata": {},
   "outputs": [],
   "source": [
    "vendas_totais = df_relevante.groupby(\"platform\")[\"total_sales\"].sum().sort_values(ascending=False) #total de vendas no periodo relevante "
   ]
  },
  {
   "cell_type": "code",
   "execution_count": null,
   "metadata": {},
   "outputs": [],
   "source": [
    "vendas_anuais = df_relevante.groupby([\"platform\", \"year_of_release\"])[\"total_sales\"].sum().reset_index() #tendência de crescimento ou queda: vendas por ano"
   ]
  },
  {
   "cell_type": "markdown",
   "metadata": {},
   "source": [
    "# 6.4 Sales trend of the main platforms"
   ]
  },
  {
   "cell_type": "code",
   "execution_count": null,
   "metadata": {},
   "outputs": [],
   "source": [
    "# Create a boxplot of global game sales for each platform \n",
    "plt.figure(figsize=(14, 6))\n",
    "top_platforms = vendas_totais.head(5).index.tolist()\n",
    "sns.lineplot(data=vendas_anuais[vendas_anuais[\"platform\"].isin(top_platforms)],\n",
    "             x=\"year_of_release\", y=\"total_sales\", hue=\"platform\")\n",
    "plt.title(\"Global Sales Distribution by Platform (2000-2016)\")\n",
    "plt.xlabel(\"Year\")\n",
    "plt.ylabel(\"Global Sales (Millions)\")\n",
    "plt.grid(True)\n",
    "plt.tight_layout()\n",
    "plt.show() "
   ]
  },
  {
   "cell_type": "markdown",
   "metadata": {},
   "source": [
    "# 6.5 Promising platforms"
   ]
  },
  {
   "cell_type": "code",
   "execution_count": null,
   "metadata": {},
   "outputs": [],
   "source": [
    "# Promising platforms: recent sales peak\n",
    "ultimos_anos = df_relevante[df_relevante[\"year_of_release\"] >= 2014]\n",
    "vendas_recentes = ultimos_anos.groupby(\"platform\")[\"total_sales\"].sum().sort_values(ascending=False)\n",
    "print(\"Platforms with high recent sales volume (2014–2016):\")\n",
    "print(vendas_recentes.head(5))"
   ]
  },
  {
   "cell_type": "markdown",
   "metadata": {},
   "source": [
    "Conclusion:\n",
    "\n",
    "-The Wii, PS2, and Nintendo DS showed a sharp sales decline.\n",
    "\n",
    "-PlayStation 4 (PS4) and Xbox One presented sales growth.\n",
    "\n",
    "-PS4, Xbox One, 3DS (Nintendo), and PC (which maintains stable and continuous sales) are lucrative potential platforms."
   ]
  },
  {
   "cell_type": "markdown",
   "metadata": {},
   "source": [
    "# 6.6 Boxplot for global sales of all games, divided by platform"
   ]
  },
  {
   "cell_type": "code",
   "execution_count": null,
   "metadata": {},
   "outputs": [],
   "source": [
    "#Remove platforms with few games\n",
    "platform_counts = df[\"platform\"].value_counts()\n",
    "plataformas_validas = platform_counts[platform_counts >= 50].index\n",
    "df = df[df[\"platform\"].isin(plataformas_validas)]"
   ]
  },
  {
   "cell_type": "code",
   "execution_count": null,
   "metadata": {},
   "outputs": [],
   "source": [
    "# Create box plot\n",
    "plt.figure(figsize=(16, 8))\n",
    "sns.boxplot(data=df, x=\"platform\", y=\"total_sales\")\n",
    "plt.title(\"Global Sales by Plataforms (2000–2016)\")\n",
    "plt.xlabel(\"Plataforms\")\n",
    "plt.ylabel(\"Total Sales (Millions)\")\n",
    "plt.xticks(rotation=45)\n",
    "plt.yscale(\"log\")  # Escala logarítmica para melhor visualização\n",
    "plt.tight_layout()\n",
    "plt.show()"
   ]
  },
  {
   "cell_type": "markdown",
   "metadata": {},
   "source": [
    "Conclusion: The chart shows that platforms like the Wii, PS3, and Xbox 360 had a few titles with very high sales (outliers), whereas other platforms sold more consistently with fewer major blockbusters. This analysis helps determine which platforms are more likely to generate higher profit per game."
   ]
  },
  {
   "cell_type": "code",
   "execution_count": null,
   "metadata": {},
   "outputs": [],
   "source": [
    "# Filter data for the PS3 platform and valid years\n",
    "df_ps3 = df[(df[\"platform\"] == \"PS3\") & \n",
    "            (df[\"year_of_release\"] >= 2000) & \n",
    "            (df[\"year_of_release\"] <= 2016)].copy()"
   ]
  },
  {
   "cell_type": "code",
   "execution_count": null,
   "metadata": {},
   "outputs": [],
   "source": [
    "# Create total sales column \n",
    "df_ps3[\"total_sales\"] = df_ps3[\"na_sales\"] + df_ps3[\"eu_sales\"] + df_ps3[\"jp_sales\"] + df_ps3[\"other_sales\"]"
   ]
  },
  {
   "cell_type": "code",
   "execution_count": null,
   "metadata": {},
   "outputs": [],
   "source": [
    "# Remove invalid entries in ratings\n",
    "df_ps3 = df_ps3[(df_ps3[\"user_score\"] != 'tbd') & (~df_ps3[\"user_score\"].isnull())]\n",
    "df_ps3[\"user_score\"] = df_ps3[\"user_score\"].astype(float)\n",
    "df_ps3 = df_ps3.dropna(subset=[\"critic_score\", \"total_sales\"])"
   ]
  },
  {
   "cell_type": "markdown",
   "metadata": {},
   "source": [
    "# 6.7 Scatter plot - Critic Score vs Sales"
   ]
  },
  {
   "cell_type": "code",
   "execution_count": null,
   "metadata": {},
   "outputs": [],
   "source": [
    "plt.figure(figsize=(12, 5))\n",
    "plt.subplot(1, 2, 1)\n",
    "sns.scatterplot(data=df_ps3, x=\"critic_score\", y=\"total_sales\")\n",
    "plt.title(\"Critic Score vs Sales (PS3)\")\n",
    "plt.xlabel(\"Critic Score\")\n",
    "plt.ylabel(\"Total Sales (Millions)\")"
   ]
  },
  {
   "cell_type": "code",
   "execution_count": null,
   "metadata": {},
   "outputs": [],
   "source": [
    "# Scatter plot - User Score vs Sales\n",
    "plt.subplot(1, 2, 2)\n",
    "sns.scatterplot(data=df_ps3, x=\"user_score\", y=\"total_sales\")\n",
    "plt.title(\" User Score vs Sales (PS3)\")\n",
    "plt.xlabel(\"User Score\")\n",
    "plt.ylabel(\"Total Sales (Millions)\")\n",
    "\n",
    "plt.tight_layout()\n",
    "plt.show()"
   ]
  },
  {
   "cell_type": "markdown",
   "metadata": {},
   "source": [
    "# 6.8 Correlation"
   ]
  },
  {
   "cell_type": "code",
   "execution_count": null,
   "metadata": {},
   "outputs": [],
   "source": [
    "# Correlation\n",
    "cor_critic = df_ps3[\"critic_score\"].corr(df_ps3[\"total_sales\"])\n",
    "cor_user = df_ps3[\"user_score\"].corr(df_ps3[\"total_sales\"])\n",
    "\n",
    "print(f\"Correlation between critic rating and sales (PS3): {cor_critic:.2f}\")\n",
    "print(f\"Correlation between user rating and sales (PS3): {cor_user:.2f}\")"
   ]
  },
  {
   "cell_type": "markdown",
   "metadata": {},
   "source": [
    "Conclusion: PS3 games sold better when well-rated by critics (a correlation of 0.38), but user ratings had almost no influence on sales (a correlation of −0.03). This indicates that critic reviews have a greater commercial impact than player opinions."
   ]
  },
  {
   "cell_type": "markdown",
   "metadata": {},
   "source": [
    "# 6.9 Find games released on more than one platform"
   ]
  },
  {
   "cell_type": "code",
   "execution_count": null,
   "metadata": {},
   "outputs": [],
   "source": [
    "jogos_multiplataforma = df[\"name\"].value_counts()\n",
    "jogos_multiplataforma = jogos_multiplataforma[jogos_multiplataforma > 1].index"
   ]
  },
  {
   "cell_type": "code",
   "execution_count": null,
   "metadata": {},
   "outputs": [],
   "source": [
    "# Filter only these games\n",
    "df_multi = df[df[\"name\"].isin(jogos_multiplataforma)]"
   ]
  },
  {
   "cell_type": "markdown",
   "metadata": {},
   "source": [
    "# 6.10 Average sales per platform for multiplatform games"
   ]
  },
  {
   "cell_type": "code",
   "execution_count": null,
   "metadata": {
    "scrolled": true
   },
   "outputs": [],
   "source": [
    "media_vendas = df_multi.groupby(\"platform\")[\"total_sales\"].mean().sort_values(ascending=False)\n",
    "\n",
    "print(\"Average sales of multiplatform games by platform:\")\n",
    "print(media_vendas)\n",
    "\n",
    "# Sales of the same game on different platforms\n",
    "exemplo_jogo = \"Call of Duty: Black Ops\"  \n",
    "df_exemplo = df_multi[df_multi[\"name\"] == exemplo_jogo][[\"name\", \"platform\", \"total_sales\"]]\n",
    "print(f\"\\nSales of the game'{exemplo_jogo}' on different platforms:\")\n",
    "print(df_exemplo)"
   ]
  },
  {
   "cell_type": "code",
   "execution_count": null,
   "metadata": {},
   "outputs": [],
   "source": [
    "# Game count by genre\n",
    "contagem_generos = df[\"genre\"].value_counts()\n"
   ]
  },
  {
   "cell_type": "code",
   "execution_count": null,
   "metadata": {},
   "outputs": [],
   "source": [
    "# Total sales by genre\n",
    "vendas_genero_total = df.groupby(\"genre\")[\"total_sales\"].sum().sort_values(ascending=False)"
   ]
  },
  {
   "cell_type": "code",
   "execution_count": null,
   "metadata": {},
   "outputs": [],
   "source": [
    "# Average sales by genre\n",
    "vendas_genero_media = df.groupby(\"genre\")[\"total_sales\"].mean().sort_values(ascending=False)\n"
   ]
  },
  {
   "cell_type": "markdown",
   "metadata": {},
   "source": [
    "# 6.11 General distribution plot of games by genre"
   ]
  },
  {
   "cell_type": "code",
   "execution_count": null,
   "metadata": {},
   "outputs": [],
   "source": [
    "#Plot general distribution of games by genre\n",
    "plt.figure(figsize=(14, 4))\n",
    "sns.barplot(x=contagem_generos.index, y=contagem_generos.values)\n",
    "plt.title(\"Distribution of Games by Genre (2000–2016)\")\n",
    "plt.xlabel(\"Genre\")\n",
    "plt.ylabel(\"Game Count\")\n",
    "plt.xticks(rotation=45)\n",
    "plt.tight_layout()\n",
    "plt.show()"
   ]
  },
  {
   "cell_type": "markdown",
   "metadata": {},
   "source": [
    "# 6.12 Total sales by genre plot"
   ]
  },
  {
   "cell_type": "code",
   "execution_count": null,
   "metadata": {},
   "outputs": [],
   "source": [
    "#Plot total sales by genre\n",
    "plt.figure(figsize=(14, 4))\n",
    "sns.barplot(x=vendas_genero_total.index, y=vendas_genero_total.values)\n",
    "plt.title(\"Total Sales by Genre (2000–2016)\")\n",
    "plt.xlabel(\"Genre\")\n",
    "plt.ylabel(\"Total Sales (Millions)\")\n",
    "plt.xticks(rotation=45)\n",
    "plt.tight_layout()\n",
    "plt.show()"
   ]
  },
  {
   "cell_type": "markdown",
   "metadata": {},
   "source": [
    "# 6.13 Average sales per game in each genre plot"
   ]
  },
  {
   "cell_type": "code",
   "execution_count": null,
   "metadata": {},
   "outputs": [],
   "source": [
    "#Plot average sales per game in each genre\n",
    "plt.figure(figsize=(14, 4))\n",
    "sns.barplot(x=vendas_genero_media.index, y=vendas_genero_media.values)\n",
    "plt.title(\"Average Sales by Genre (2000–2016)\")\n",
    "plt.xlabel(\"Genre\")\n",
    "plt.ylabel(\"Average Sales per Game\")\n",
    "plt.xticks(rotation=45)\n",
    "plt.tight_layout()\n",
    "plt.show()"
   ]
  },
  {
   "cell_type": "markdown",
   "metadata": {},
   "source": [
    "Conclusion: The charts show that the most frequently released genres are Action and Sports. However, the most lucrative per game are Shooter and Platform, with the highest average sales. Conversely, genres like Puzzle, Adventure, and Strategy sell less and are therefore less profitable per title."
   ]
  },
  {
   "cell_type": "markdown",
   "metadata": {},
   "source": [
    "# 7. Create a user profile for each region"
   ]
  },
  {
   "cell_type": "code",
   "execution_count": null,
   "metadata": {},
   "outputs": [],
   "source": [
    "# Filter relevant period\n",
    "df = df[(df[\"year_of_release\"] >= 2000) & (df[\"year_of_release\"] <= 2016)]"
   ]
  },
  {
   "cell_type": "code",
   "execution_count": null,
   "metadata": {},
   "outputs": [],
   "source": [
    "# Create a ranking of the top 5 best-selling platforms by region\n",
    "top_na = df.groupby(\"platform\")[\"na_sales\"].sum().sort_values(ascending=False).head(5)\n",
    "top_eu = df.groupby(\"platform\")[\"eu_sales\"].sum().sort_values(ascending=False).head(5)\n",
    "top_jp = df.groupby(\"platform\")[\"jp_sales\"].sum().sort_values(ascending=False).head(5)\n"
   ]
  },
  {
   "cell_type": "code",
   "execution_count": null,
   "metadata": {},
   "outputs": [],
   "source": [
    "# Combine the unique platforms from the top 5 in each region\n",
    "plataformas_unicas = set(top_na.index).union(top_eu.index).union(top_jp.index)\n"
   ]
  },
  {
   "cell_type": "code",
   "execution_count": null,
   "metadata": {},
   "outputs": [],
   "source": [
    "# Create DataFrame with sales by region for these platforms\n",
    "df_plataformas = df[df[\"platform\"].isin(plataformas_unicas)]\n",
    "vendas_regiao = df_plataformas.groupby(\"platform\")[[\"na_sales\", \"eu_sales\", \"jp_sales\"]].sum()\n"
   ]
  },
  {
   "cell_type": "code",
   "execution_count": null,
   "metadata": {},
   "outputs": [],
   "source": [
    "# Calculate the market share (%) of each platform in each region.\n",
    "vendas_percentuais = vendas_regiao.div(vendas_regiao.sum(axis=0), axis=1) * 100"
   ]
  },
  {
   "cell_type": "code",
   "execution_count": null,
   "metadata": {},
   "outputs": [],
   "source": [
    "# Sort by total sales in NA as a reference.\n",
    "vendas_percentuais = vendas_percentuais.loc[list(plataformas_unicas)]\n",
    "vendas_percentuais.round(1)"
   ]
  },
  {
   "cell_type": "markdown",
   "metadata": {},
   "source": [
    "Conclusion: In North America and Europe, the Xbox 360 and PS3 lead in sales, reflecting a preference for home consoles. In Japan, however, handheld platforms such as the DS and PSP dominate the market. These variations demonstrate that the consumer profile for gaming changes significantly by region: traditional consoles hold more strength in the West, while Japan favors portables."
   ]
  },
  {
   "cell_type": "code",
   "execution_count": null,
   "metadata": {},
   "outputs": [],
   "source": [
    "# Calculate the top five genres by region (NA, EU, JP)\n",
    "generos_na = df.groupby(\"genre\")[\"na_sales\"].sum().sort_values(ascending=False).head(5)\n",
    "generos_eu = df.groupby(\"genre\")[\"eu_sales\"].sum().sort_values(ascending=False).head(5)\n",
    "generos_jp = df.groupby(\"genre\")[\"jp_sales\"].sum().sort_values(ascending=False).head(5)\n",
    "\n",
    "# Display the results\n",
    "print(\"Top Genres by Region:\")\n",
    "print(\"\\n North America (NA):\")\n",
    "print(generos_na)\n",
    "print(\"\\nEurope (EU):\")\n",
    "print(generos_eu)\n",
    "print(\"\\nJapan (JP):\")\n",
    "print(generos_jp)\n"
   ]
  },
  {
   "cell_type": "markdown",
   "metadata": {},
   "source": [
    "## Regional Market Profile Summary\n",
    "\n",
    "### Platform and Console Preferences\n",
    "The market profile is starkly divided by region:\n",
    "* **North America (NA) and Europe (EU)** prefer **home consoles** (Xbox 360, PS3), which dominate sales.\n",
    "* **Japan (JP)** prefers **handheld platforms** (DS, PSP), which are the top sellers.\n",
    "This highlights a key difference in consumer behavior: the West favors traditional consoles, while Japan prioritizes portability.\n",
    "\n",
    "### Genre Preferences\n",
    "* **NA and EU** are dominated by high-action and competitive genres: **Action, Shooter, and Sports**.\n",
    "* **Japan** is dominated by immersive, story-driven genres: **Role-Playing Games (RPGs)** and **Adventure**.\n",
    "\n",
    "### Rating Impact\n",
    "* **Critic Ratings** (e.g., Metacritic) show a **strong positive correlation** with sales on the PS3, indicating that critical reviews have a clear commercial impact.\n",
    "* **Age Ratings** (ESRB, PEGI, CERO) have the **highest commercial impact in NA**, where Mature-rated games face more retail friction compared to Europe. High CERO ratings in Japan can also limit title availability."
   ]
  },
  {
   "cell_type": "markdown",
   "metadata": {},
   "source": [
    "# 8. Hypothesis Testing"
   ]
  },
  {
   "cell_type": "code",
   "execution_count": null,
   "metadata": {},
   "outputs": [],
   "source": [
    "# Perform the t-test for Xbox One and PC\n",
    "# Filter data\n",
    "df_xbox_pc = df[df[\"platform\"].isin([\"XOne\", \"PC\"])]\n",
    "df_xbox_pc.head()"
   ]
  },
  {
   "cell_type": "code",
   "execution_count": null,
   "metadata": {},
   "outputs": [],
   "source": [
    "# Clean user ratings data (remove missing values)\n",
    "df_xbox_pc = df_xbox_pc.dropna(subset=[\"user_score\"])"
   ]
  },
  {
   "cell_type": "code",
   "execution_count": null,
   "metadata": {},
   "outputs": [],
   "source": [
    "# Separate the data for the two platforms\n",
    "xbox_one_scores = df_xbox_pc[df_xbox_pc[\"platform\"] == \"XOne\"][\"user_score\"]\n",
    "pc_scores = df_xbox_pc[df_xbox_pc[\"platform\"] == \"PC\"][\"user_score\"]\n"
   ]
  },
  {
   "cell_type": "code",
   "execution_count": null,
   "metadata": {},
   "outputs": [],
   "source": [
    "# Perform the two-sample independent t-test\n",
    "t_stat, p_value = stats.ttest_ind(xbox_one_scores, pc_scores)\n",
    "\n",
    "print(f\"Estatística t: {t_stat:.3f}\")\n",
    "print(f\"Valor p: {p_value:.3f}\")"
   ]
  },
  {
   "cell_type": "code",
   "execution_count": null,
   "metadata": {},
   "outputs": [],
   "source": [
    "# Test the hypothesis\n",
    "alpha = 0.05\n",
    "if p_value < alpha:\n",
    "    print(\"We reject the null hypothesis: the average user ratings for Xbox One and PC are different.\")\n",
    "else:\n",
    "    print(\"We fail to reject the null hypothesis: there is not enough evidence to state that the average user ratings for Xbox One and PC are different.\")"
   ]
  },
  {
   "cell_type": "code",
   "execution_count": null,
   "metadata": {},
   "outputs": [],
   "source": [
    "# Perform the t-test for the Action and Sports genres\n",
    "# Filter data\n",
    "df_action_sports = df[df[\"genre\"].isin([\"Action\", \"Sports\"])]"
   ]
  },
  {
   "cell_type": "code",
   "execution_count": null,
   "metadata": {},
   "outputs": [],
   "source": [
    "# Clean user ratings data (remove missing values)\n",
    "df_action_sports = df_action_sports.dropna(subset=[\"user_score\"])"
   ]
  },
  {
   "cell_type": "code",
   "execution_count": null,
   "metadata": {},
   "outputs": [],
   "source": [
    "# Separate the data for the two genres\n",
    "action_scores = df_action_sports[df_action_sports[\"genre\"] == \"Action\"][\"user_score\"]\n",
    "sports_scores = df_action_sports[df_action_sports[\"genre\"] == \"Sports\"][\"user_score\"]"
   ]
  },
  {
   "cell_type": "code",
   "execution_count": null,
   "metadata": {},
   "outputs": [],
   "source": [
    "# Perform the two-sample independent t-test\n",
    "t_stat, p_value = stats.ttest_ind(action_scores, sports_scores)\n",
    "\n",
    "print(f\"Estatística t: {t_stat:.3f}\")\n",
    "print(f\"Valor p: {p_value:.3f}\")\n"
   ]
  },
  {
   "cell_type": "code",
   "execution_count": null,
   "metadata": {},
   "outputs": [],
   "source": [
    "# Test the hypothesis\n",
    "alpha = 0.05\n",
    "if p_value < alpha:\n",
    "    print(\"We reject the null hypothesis: the average user ratings for the Action and Sports genres are different.\")\n",
    "else:\n",
    "    print(\"We fail to reject the null hypothesis: there is not enough evidence to state that the average user ratings for the Action and Sports genres are different.\")"
   ]
  },
  {
   "cell_type": "markdown",
   "metadata": {},
   "source": [
    "# 9. Final Conclusion"
   ]
  },
  {
   "cell_type": "markdown",
   "metadata": {},
   "source": [
    "## General Project Conclusion\n",
    "\n",
    "This project involved a statistical analysis of video game sales data to map consumer behavior and market preferences across different platforms and genres.\n",
    "\n",
    "### Key Findings from Hypothesis Testing\n",
    "\n",
    "We used a **Two-Sample Independent t-test** to compare average user ratings. The results showed **rejection of the null hypothesis** in both cases, confirming that the observed differences are statistically significant:\n",
    "\n",
    "1.  **Platform Comparison (Xbox One vs. PC):** The average user ratings are **significantly different**, suggesting that user experiences and expectations for games vary between these two major platforms.\n",
    "2.  **Genre Comparison (Action vs. Sports):** The average user ratings for these two popular genres are also **significantly different**, indicating clear distinctions in player satisfaction and preference.\n",
    "\n",
    "### Descriptive Analysis and Market Trends\n",
    "\n",
    "The market analysis revealed strong regional and genre-based trends:\n",
    "\n",
    "* **Genre Popularity:** While **Action** and **Sports** lead in overall sales volume, specific regional tastes drive different market demands.\n",
    "* **Regional Preferences:** **Action** and **Shooter** games dominate in the **Americas and Europe**. Conversely, **Role-Playing Games (RPGs)** and **Adventure** titles show a powerful preference in **Japan**.\n",
    "\n",
    "### Conclusion on Ratings Impact\n",
    "\n",
    "Our analysis suggests that **critic ratings tend to have a more significant influence on sales** in some platforms and genres than user ratings.\n",
    "\n",
    "### Final Conclusion\n",
    "\n",
    "Gaming preferences vary widely by platform and genre, with **region playing a crucial role** (RPGs in Japan vs. Action in the West). The statistically significant differences in user ratings and the varied impact of critic ratings highlight the necessity of developing and marketing products tailored to these distinct segments."
   ]
  }
 ],
 "metadata": {
  "kernelspec": {
   "display_name": "Python 3 (ipykernel)",
   "language": "python",
   "name": "python3"
  },
  "language_info": {
   "codemirror_mode": {
    "name": "ipython",
    "version": 3
   },
   "file_extension": ".py",
   "mimetype": "text/x-python",
   "name": "python",
   "nbconvert_exporter": "python",
   "pygments_lexer": "ipython3",
   "version": "3.12.7"
  }
 },
 "nbformat": 4,
 "nbformat_minor": 4
}
